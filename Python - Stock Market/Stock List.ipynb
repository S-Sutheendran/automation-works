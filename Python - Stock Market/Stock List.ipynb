{
 "cells": [
  {
   "cell_type": "code",
   "execution_count": 8,
   "id": "7c4667eb-fd85-4bcf-a2c7-6d64c4fdf3aa",
   "metadata": {},
   "outputs": [
    {
     "name": "stdout",
     "output_type": "stream",
     "text": [
      "+----+------------+--------------+------------+-----------+---------+----------+\n",
      "|    | Symbol     |   Last Price |   Day High |   Day Low |    Open |   Volume |\n",
      "+====+============+==============+============+===========+=========+==========+\n",
      "|  0 | RELIANCE   |      1253.65 |     1266.5 |   1245.55 | 1264.5  |  6968859 |\n",
      "+----+------------+--------------+------------+-----------+---------+----------+\n",
      "|  1 | WEL        |       194.79 |      200   |    190.1  |  199.9  |   352371 |\n",
      "+----+------------+--------------+------------+-----------+---------+----------+\n",
      "|  2 | TATASTEEL  |       134.04 |      138.1 |    133    |  138.1  | 26103042 |\n",
      "+----+------------+--------------+------------+-----------+---------+----------+\n",
      "|  3 | TATAMOTORS |       696    |      709.9 |    693.05 |  709.75 | 10978410 |\n",
      "+----+------------+--------------+------------+-----------+---------+----------+\n"
     ]
    }
   ],
   "source": [
    "import yfinance as yf\n",
    "import pandas as pd\n",
    "from tabulate import tabulate\n",
    "\n",
    "# List of Indian stock symbols (Yahoo Finance format with .NS suffix)\n",
    "stocks = [\"RELIANCE.NS\", \"WEL.NS\", \"TATASTEEL.NS\", \"TATAMOTORS.NS\"]\n",
    "\n",
    "# Fetch stock data\n",
    "data = []\n",
    "for stock in stocks:\n",
    "    ticker = yf.Ticker(stock)\n",
    "    hist = ticker.history(period=\"1d\")\n",
    "\n",
    "    if not hist.empty:\n",
    "        last_price = hist[\"Close\"].iloc[-1]\n",
    "        day_high = hist[\"High\"].iloc[-1]\n",
    "        day_low = hist[\"Low\"].iloc[-1]\n",
    "        open_price = hist[\"Open\"].iloc[-1]\n",
    "        volume = hist[\"Volume\"].iloc[-1]\n",
    "\n",
    "        data.append([stock.replace(\".NS\", \"\"), last_price, day_high, day_low, open_price, volume])\n",
    "    else:\n",
    "        print(f\"Failed to fetch data for {stock}\")\n",
    "\n",
    "# Create DataFrame\n",
    "df = pd.DataFrame(data, columns=[\"Symbol\", \"Last Price\", \"Day High\", \"Day Low\", \"Open\", \"Volume\"])\n",
    "\n",
    "# Print table\n",
    "print(tabulate(df, headers=\"keys\", tablefmt=\"grid\"))"
   ]
  },
  {
   "cell_type": "code",
   "execution_count": null,
   "id": "e7803609-5977-4776-960c-3e154f56287d",
   "metadata": {},
   "outputs": [],
   "source": []
  }
 ],
 "metadata": {
  "kernelspec": {
   "display_name": "Python 3 (ipykernel)",
   "language": "python",
   "name": "python3"
  },
  "language_info": {
   "codemirror_mode": {
    "name": "ipython",
    "version": 3
   },
   "file_extension": ".py",
   "mimetype": "text/x-python",
   "name": "python",
   "nbconvert_exporter": "python",
   "pygments_lexer": "ipython3",
   "version": "3.12.1"
  }
 },
 "nbformat": 4,
 "nbformat_minor": 5
}
