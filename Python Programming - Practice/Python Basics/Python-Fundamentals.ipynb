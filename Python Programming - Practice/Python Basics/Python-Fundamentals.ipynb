{
 "cells": [
  {
   "cell_type": "markdown",
   "id": "e5d4a86c-4cb8-4a8a-aa80-960c4bfdc021",
   "metadata": {},
   "source": [
    "Python - Object and Data Structures Basics"
   ]
  },
  {
   "cell_type": "code",
   "execution_count": null,
   "id": "a48bcf12-5ba2-452b-9dae-2cb041923702",
   "metadata": {},
   "outputs": [],
   "source": []
  }
 ],
 "metadata": {
  "kernelspec": {
   "display_name": "Python 3 (ipykernel)",
   "language": "python",
   "name": "python3"
  },
  "language_info": {
   "codemirror_mode": {
    "name": "ipython",
    "version": 3
   },
   "file_extension": ".py",
   "mimetype": "text/x-python",
   "name": "python",
   "nbconvert_exporter": "python",
   "pygments_lexer": "ipython3",
   "version": "3.12.1"
  }
 },
 "nbformat": 4,
 "nbformat_minor": 5
}
